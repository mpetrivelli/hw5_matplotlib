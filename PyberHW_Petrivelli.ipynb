{
 "cells": [
  {
   "cell_type": "code",
   "execution_count": 1,
   "metadata": {
    "collapsed": true
   },
   "outputs": [],
   "source": [
    "# Import Numpy for calculations and matplotlib for charting\n",
    "import numpy as np\n",
    "import matplotlib.pyplot as plt\n",
    "import pandas as pd"
   ]
  },
  {
   "cell_type": "code",
   "execution_count": 2,
   "metadata": {
    "collapsed": true
   },
   "outputs": [],
   "source": [
    "# Load in csv\n",
    "city_df = pd.read_csv(\"city_data.csv\")\n",
    "ride_df = pd.read_csv(\"ride_data.csv\")"
   ]
  },
  {
   "cell_type": "code",
   "execution_count": 3,
   "metadata": {},
   "outputs": [
    {
     "data": {
      "text/html": [
       "<div>\n",
       "<style>\n",
       "    .dataframe thead tr:only-child th {\n",
       "        text-align: right;\n",
       "    }\n",
       "\n",
       "    .dataframe thead th {\n",
       "        text-align: left;\n",
       "    }\n",
       "\n",
       "    .dataframe tbody tr th {\n",
       "        vertical-align: top;\n",
       "    }\n",
       "</style>\n",
       "<table border=\"1\" class=\"dataframe\">\n",
       "  <thead>\n",
       "    <tr style=\"text-align: right;\">\n",
       "      <th></th>\n",
       "      <th>city</th>\n",
       "      <th>driver_count</th>\n",
       "      <th>type</th>\n",
       "      <th>date</th>\n",
       "      <th>fare</th>\n",
       "      <th>ride_id</th>\n",
       "    </tr>\n",
       "  </thead>\n",
       "  <tbody>\n",
       "    <tr>\n",
       "      <th>0</th>\n",
       "      <td>Kelseyland</td>\n",
       "      <td>63</td>\n",
       "      <td>Urban</td>\n",
       "      <td>2016-08-19 04:27:52</td>\n",
       "      <td>5.51</td>\n",
       "      <td>6246006544795</td>\n",
       "    </tr>\n",
       "    <tr>\n",
       "      <th>1</th>\n",
       "      <td>Kelseyland</td>\n",
       "      <td>63</td>\n",
       "      <td>Urban</td>\n",
       "      <td>2016-04-17 06:59:50</td>\n",
       "      <td>5.54</td>\n",
       "      <td>7466473222333</td>\n",
       "    </tr>\n",
       "    <tr>\n",
       "      <th>2</th>\n",
       "      <td>Kelseyland</td>\n",
       "      <td>63</td>\n",
       "      <td>Urban</td>\n",
       "      <td>2016-05-04 15:06:07</td>\n",
       "      <td>30.54</td>\n",
       "      <td>2140501382736</td>\n",
       "    </tr>\n",
       "    <tr>\n",
       "      <th>3</th>\n",
       "      <td>Kelseyland</td>\n",
       "      <td>63</td>\n",
       "      <td>Urban</td>\n",
       "      <td>2016-01-25 20:44:56</td>\n",
       "      <td>12.08</td>\n",
       "      <td>1896987891309</td>\n",
       "    </tr>\n",
       "    <tr>\n",
       "      <th>4</th>\n",
       "      <td>Kelseyland</td>\n",
       "      <td>63</td>\n",
       "      <td>Urban</td>\n",
       "      <td>2016-08-09 18:19:47</td>\n",
       "      <td>17.91</td>\n",
       "      <td>8784212854829</td>\n",
       "    </tr>\n",
       "  </tbody>\n",
       "</table>\n",
       "</div>"
      ],
      "text/plain": [
       "         city  driver_count   type                 date   fare        ride_id\n",
       "0  Kelseyland            63  Urban  2016-08-19 04:27:52   5.51  6246006544795\n",
       "1  Kelseyland            63  Urban  2016-04-17 06:59:50   5.54  7466473222333\n",
       "2  Kelseyland            63  Urban  2016-05-04 15:06:07  30.54  2140501382736\n",
       "3  Kelseyland            63  Urban  2016-01-25 20:44:56  12.08  1896987891309\n",
       "4  Kelseyland            63  Urban  2016-08-09 18:19:47  17.91  8784212854829"
      ]
     },
     "execution_count": 3,
     "metadata": {},
     "output_type": "execute_result"
    }
   ],
   "source": [
    "# Merge the two DataFrames together based on \"city\" they share\n",
    "merge_df = pd.merge(city_df, ride_df, on=\"city\")\n",
    "merge_df.head()"
   ]
  },
  {
   "cell_type": "code",
   "execution_count": 4,
   "metadata": {},
   "outputs": [
    {
     "data": {
      "text/plain": [
       "city\n",
       "Alvarezhaven    23.928710\n",
       "Alyssaberg      20.609615\n",
       "Anitamouth      37.315556\n",
       "Antoniomouth    23.625000\n",
       "Aprilchester    21.981579\n",
       "Name: fare, dtype: float64"
      ]
     },
     "execution_count": 4,
     "metadata": {},
     "output_type": "execute_result"
    }
   ],
   "source": [
    "# Average Fare Per City\n",
    "avg_fare = merge_df.groupby(\"city\")[\"fare\"].mean()\n",
    "avg_fare.head()"
   ]
  },
  {
   "cell_type": "code",
   "execution_count": 5,
   "metadata": {},
   "outputs": [
    {
     "data": {
      "text/plain": [
       "city\n",
       "Alvarezhaven    31\n",
       "Alyssaberg      26\n",
       "Anitamouth       9\n",
       "Antoniomouth    22\n",
       "Aprilchester    19\n",
       "Name: ride_id, dtype: int64"
      ]
     },
     "execution_count": 5,
     "metadata": {},
     "output_type": "execute_result"
    }
   ],
   "source": [
    "# Total Number of Rides Per City \n",
    "count_rides = merge_df.groupby(\"city\")[\"ride_id\"].count()\n",
    "count_rides.head()"
   ]
  },
  {
   "cell_type": "code",
   "execution_count": 6,
   "metadata": {},
   "outputs": [
    {
     "data": {
      "text/plain": [
       "city\n",
       "Alvarezhaven    21\n",
       "Alyssaberg      67\n",
       "Anitamouth      16\n",
       "Antoniomouth    21\n",
       "Aprilchester    49\n",
       "Name: driver_count, dtype: int64"
      ]
     },
     "execution_count": 6,
     "metadata": {},
     "output_type": "execute_result"
    }
   ],
   "source": [
    "# Count Number of Drivers Per City\n",
    "count_drivers = merge_df.groupby(\"city\")[\"driver_count\"].min()\n",
    "count_drivers.head()"
   ]
  },
  {
   "cell_type": "code",
   "execution_count": 7,
   "metadata": {},
   "outputs": [
    {
     "data": {
      "text/html": [
       "<div>\n",
       "<style>\n",
       "    .dataframe thead tr:only-child th {\n",
       "        text-align: right;\n",
       "    }\n",
       "\n",
       "    .dataframe thead th {\n",
       "        text-align: left;\n",
       "    }\n",
       "\n",
       "    .dataframe tbody tr th {\n",
       "        vertical-align: top;\n",
       "    }\n",
       "</style>\n",
       "<table border=\"1\" class=\"dataframe\">\n",
       "  <thead>\n",
       "    <tr style=\"text-align: right;\">\n",
       "      <th></th>\n",
       "      <th>city</th>\n",
       "      <th>driver_count</th>\n",
       "      <th>type</th>\n",
       "      <th>date</th>\n",
       "      <th>fare</th>\n",
       "      <th>ride_id</th>\n",
       "    </tr>\n",
       "  </thead>\n",
       "  <tbody>\n",
       "    <tr>\n",
       "      <th>0</th>\n",
       "      <td>Kelseyland</td>\n",
       "      <td>63</td>\n",
       "      <td>Urban</td>\n",
       "      <td>2016-08-19 04:27:52</td>\n",
       "      <td>5.51</td>\n",
       "      <td>6246006544795</td>\n",
       "    </tr>\n",
       "    <tr>\n",
       "      <th>1</th>\n",
       "      <td>Kelseyland</td>\n",
       "      <td>63</td>\n",
       "      <td>Urban</td>\n",
       "      <td>2016-04-17 06:59:50</td>\n",
       "      <td>5.54</td>\n",
       "      <td>7466473222333</td>\n",
       "    </tr>\n",
       "    <tr>\n",
       "      <th>2</th>\n",
       "      <td>Kelseyland</td>\n",
       "      <td>63</td>\n",
       "      <td>Urban</td>\n",
       "      <td>2016-05-04 15:06:07</td>\n",
       "      <td>30.54</td>\n",
       "      <td>2140501382736</td>\n",
       "    </tr>\n",
       "    <tr>\n",
       "      <th>3</th>\n",
       "      <td>Kelseyland</td>\n",
       "      <td>63</td>\n",
       "      <td>Urban</td>\n",
       "      <td>2016-01-25 20:44:56</td>\n",
       "      <td>12.08</td>\n",
       "      <td>1896987891309</td>\n",
       "    </tr>\n",
       "    <tr>\n",
       "      <th>4</th>\n",
       "      <td>Kelseyland</td>\n",
       "      <td>63</td>\n",
       "      <td>Urban</td>\n",
       "      <td>2016-08-09 18:19:47</td>\n",
       "      <td>17.91</td>\n",
       "      <td>8784212854829</td>\n",
       "    </tr>\n",
       "  </tbody>\n",
       "</table>\n",
       "</div>"
      ],
      "text/plain": [
       "         city  driver_count   type                 date   fare        ride_id\n",
       "0  Kelseyland            63  Urban  2016-08-19 04:27:52   5.51  6246006544795\n",
       "1  Kelseyland            63  Urban  2016-04-17 06:59:50   5.54  7466473222333\n",
       "2  Kelseyland            63  Urban  2016-05-04 15:06:07  30.54  2140501382736\n",
       "3  Kelseyland            63  Urban  2016-01-25 20:44:56  12.08  1896987891309\n",
       "4  Kelseyland            63  Urban  2016-08-09 18:19:47  17.91  8784212854829"
      ]
     },
     "execution_count": 7,
     "metadata": {},
     "output_type": "execute_result"
    }
   ],
   "source": [
    "# Create DataFrame for URBAN Rides\n",
    "urban_df = merge_df[merge_df[\"type\"]==\"Urban\"]\n",
    "urban_df.head()"
   ]
  },
  {
   "cell_type": "code",
   "execution_count": 8,
   "metadata": {},
   "outputs": [
    {
     "data": {
      "text/plain": [
       "city\n",
       "Alvarezhaven    23.928710\n",
       "Alyssaberg      20.609615\n",
       "Antoniomouth    23.625000\n",
       "Aprilchester    21.981579\n",
       "Arnoldview      25.106452\n",
       "Name: fare, dtype: float64"
      ]
     },
     "execution_count": 8,
     "metadata": {},
     "output_type": "execute_result"
    }
   ],
   "source": [
    "# Average Fare Per City\n",
    "urban_avg_fare = urban_df.groupby(\"city\")[\"fare\"].mean()\n",
    "urban_avg_fare.head()"
   ]
  },
  {
   "cell_type": "code",
   "execution_count": 9,
   "metadata": {},
   "outputs": [
    {
     "data": {
      "text/plain": [
       "city\n",
       "Alvarezhaven    31\n",
       "Alyssaberg      26\n",
       "Antoniomouth    22\n",
       "Aprilchester    19\n",
       "Arnoldview      31\n",
       "Name: ride_id, dtype: int64"
      ]
     },
     "execution_count": 9,
     "metadata": {},
     "output_type": "execute_result"
    }
   ],
   "source": [
    "# Total Number of Rides Per City \n",
    "urban_rides = urban_df.groupby(\"city\")[\"ride_id\"].count()\n",
    "urban_rides.head()"
   ]
  },
  {
   "cell_type": "code",
   "execution_count": 10,
   "metadata": {},
   "outputs": [
    {
     "data": {
      "text/plain": [
       "city\n",
       "Alvarezhaven    21\n",
       "Alyssaberg      67\n",
       "Antoniomouth    21\n",
       "Aprilchester    49\n",
       "Arnoldview      41\n",
       "Name: driver_count, dtype: int64"
      ]
     },
     "execution_count": 10,
     "metadata": {},
     "output_type": "execute_result"
    }
   ],
   "source": [
    "# Count Number of Drivers Per City\n",
    "urban_drivers = urban_df.groupby(\"city\")[\"driver_count\"].min()\n",
    "urban_drivers.head()"
   ]
  },
  {
   "cell_type": "code",
   "execution_count": null,
   "metadata": {
    "collapsed": true
   },
   "outputs": [],
   "source": []
  },
  {
   "cell_type": "code",
   "execution_count": 11,
   "metadata": {},
   "outputs": [
    {
     "data": {
      "text/html": [
       "<div>\n",
       "<style>\n",
       "    .dataframe thead tr:only-child th {\n",
       "        text-align: right;\n",
       "    }\n",
       "\n",
       "    .dataframe thead th {\n",
       "        text-align: left;\n",
       "    }\n",
       "\n",
       "    .dataframe tbody tr th {\n",
       "        vertical-align: top;\n",
       "    }\n",
       "</style>\n",
       "<table border=\"1\" class=\"dataframe\">\n",
       "  <thead>\n",
       "    <tr style=\"text-align: right;\">\n",
       "      <th></th>\n",
       "      <th>city</th>\n",
       "      <th>driver_count</th>\n",
       "      <th>type</th>\n",
       "      <th>date</th>\n",
       "      <th>fare</th>\n",
       "      <th>ride_id</th>\n",
       "    </tr>\n",
       "  </thead>\n",
       "  <tbody>\n",
       "    <tr>\n",
       "      <th>1625</th>\n",
       "      <td>Carrollbury</td>\n",
       "      <td>4</td>\n",
       "      <td>Suburban</td>\n",
       "      <td>2016-05-09 03:12:10</td>\n",
       "      <td>25.00</td>\n",
       "      <td>485795568537</td>\n",
       "    </tr>\n",
       "    <tr>\n",
       "      <th>1626</th>\n",
       "      <td>Carrollbury</td>\n",
       "      <td>4</td>\n",
       "      <td>Suburban</td>\n",
       "      <td>2016-06-09 05:04:24</td>\n",
       "      <td>49.47</td>\n",
       "      <td>617204620844</td>\n",
       "    </tr>\n",
       "    <tr>\n",
       "      <th>1627</th>\n",
       "      <td>Carrollbury</td>\n",
       "      <td>4</td>\n",
       "      <td>Suburban</td>\n",
       "      <td>2016-05-20 06:12:36</td>\n",
       "      <td>35.33</td>\n",
       "      <td>73368831241</td>\n",
       "    </tr>\n",
       "    <tr>\n",
       "      <th>1628</th>\n",
       "      <td>Carrollbury</td>\n",
       "      <td>4</td>\n",
       "      <td>Suburban</td>\n",
       "      <td>2016-03-21 17:31:26</td>\n",
       "      <td>20.26</td>\n",
       "      <td>7948046018548</td>\n",
       "    </tr>\n",
       "    <tr>\n",
       "      <th>1629</th>\n",
       "      <td>Carrollbury</td>\n",
       "      <td>4</td>\n",
       "      <td>Suburban</td>\n",
       "      <td>2016-08-20 11:20:51</td>\n",
       "      <td>46.67</td>\n",
       "      <td>4786094151694</td>\n",
       "    </tr>\n",
       "  </tbody>\n",
       "</table>\n",
       "</div>"
      ],
      "text/plain": [
       "             city  driver_count      type                 date   fare  \\\n",
       "1625  Carrollbury             4  Suburban  2016-05-09 03:12:10  25.00   \n",
       "1626  Carrollbury             4  Suburban  2016-06-09 05:04:24  49.47   \n",
       "1627  Carrollbury             4  Suburban  2016-05-20 06:12:36  35.33   \n",
       "1628  Carrollbury             4  Suburban  2016-03-21 17:31:26  20.26   \n",
       "1629  Carrollbury             4  Suburban  2016-08-20 11:20:51  46.67   \n",
       "\n",
       "            ride_id  \n",
       "1625   485795568537  \n",
       "1626   617204620844  \n",
       "1627    73368831241  \n",
       "1628  7948046018548  \n",
       "1629  4786094151694  "
      ]
     },
     "execution_count": 11,
     "metadata": {},
     "output_type": "execute_result"
    }
   ],
   "source": [
    "# Create DataFrame for Suburban Rides\n",
    "suburban_df = merge_df[merge_df[\"type\"]==\"Suburban\"]\n",
    "suburban_df.head()"
   ]
  },
  {
   "cell_type": "code",
   "execution_count": 12,
   "metadata": {},
   "outputs": [
    {
     "data": {
      "text/plain": [
       "city\n",
       "Anitamouth      37.315556\n",
       "Campbellport    33.711333\n",
       "Carrollbury     36.606000\n",
       "Clarkstad       31.051667\n",
       "Conwaymouth     34.591818\n",
       "Name: fare, dtype: float64"
      ]
     },
     "execution_count": 12,
     "metadata": {},
     "output_type": "execute_result"
    }
   ],
   "source": [
    "# Average Fare Per City\n",
    "suburban_avg_fare = suburban_df.groupby(\"city\")[\"fare\"].mean()\n",
    "suburban_avg_fare.head()"
   ]
  },
  {
   "cell_type": "code",
   "execution_count": 13,
   "metadata": {},
   "outputs": [
    {
     "data": {
      "text/plain": [
       "city\n",
       "Anitamouth       9\n",
       "Campbellport    15\n",
       "Carrollbury     10\n",
       "Clarkstad       12\n",
       "Conwaymouth     11\n",
       "Name: ride_id, dtype: int64"
      ]
     },
     "execution_count": 13,
     "metadata": {},
     "output_type": "execute_result"
    }
   ],
   "source": [
    "# Total Number of Rides Per City \n",
    "suburban_rides = suburban_df.groupby(\"city\")[\"ride_id\"].count()\n",
    "suburban_rides.head()"
   ]
  },
  {
   "cell_type": "code",
   "execution_count": 14,
   "metadata": {},
   "outputs": [
    {
     "data": {
      "text/plain": [
       "city\n",
       "Anitamouth      16\n",
       "Campbellport    26\n",
       "Carrollbury      4\n",
       "Clarkstad       21\n",
       "Conwaymouth     18\n",
       "Name: driver_count, dtype: int64"
      ]
     },
     "execution_count": 14,
     "metadata": {},
     "output_type": "execute_result"
    }
   ],
   "source": [
    "# Count Number of Drivers Per City\n",
    "suburban_drivers = suburban_df.groupby(\"city\")[\"driver_count\"].min()\n",
    "suburban_drivers.head()"
   ]
  },
  {
   "cell_type": "code",
   "execution_count": 15,
   "metadata": {},
   "outputs": [
    {
     "data": {
      "text/html": [
       "<div>\n",
       "<style>\n",
       "    .dataframe thead tr:only-child th {\n",
       "        text-align: right;\n",
       "    }\n",
       "\n",
       "    .dataframe thead th {\n",
       "        text-align: left;\n",
       "    }\n",
       "\n",
       "    .dataframe tbody tr th {\n",
       "        vertical-align: top;\n",
       "    }\n",
       "</style>\n",
       "<table border=\"1\" class=\"dataframe\">\n",
       "  <thead>\n",
       "    <tr style=\"text-align: right;\">\n",
       "      <th></th>\n",
       "      <th>city</th>\n",
       "      <th>driver_count</th>\n",
       "      <th>type</th>\n",
       "      <th>date</th>\n",
       "      <th>fare</th>\n",
       "      <th>ride_id</th>\n",
       "    </tr>\n",
       "  </thead>\n",
       "  <tbody>\n",
       "    <tr>\n",
       "      <th>2282</th>\n",
       "      <td>South Elizabethmouth</td>\n",
       "      <td>3</td>\n",
       "      <td>Rural</td>\n",
       "      <td>2016-04-03 11:13:07</td>\n",
       "      <td>22.79</td>\n",
       "      <td>8193837300497</td>\n",
       "    </tr>\n",
       "    <tr>\n",
       "      <th>2283</th>\n",
       "      <td>South Elizabethmouth</td>\n",
       "      <td>3</td>\n",
       "      <td>Rural</td>\n",
       "      <td>2016-03-11 12:27:01</td>\n",
       "      <td>26.72</td>\n",
       "      <td>4943246873754</td>\n",
       "    </tr>\n",
       "    <tr>\n",
       "      <th>2284</th>\n",
       "      <td>South Elizabethmouth</td>\n",
       "      <td>3</td>\n",
       "      <td>Rural</td>\n",
       "      <td>2016-11-23 07:47:18</td>\n",
       "      <td>46.39</td>\n",
       "      <td>1939838068038</td>\n",
       "    </tr>\n",
       "    <tr>\n",
       "      <th>2285</th>\n",
       "      <td>South Elizabethmouth</td>\n",
       "      <td>3</td>\n",
       "      <td>Rural</td>\n",
       "      <td>2016-07-19 09:35:59</td>\n",
       "      <td>31.09</td>\n",
       "      <td>2959749591417</td>\n",
       "    </tr>\n",
       "    <tr>\n",
       "      <th>2286</th>\n",
       "      <td>South Elizabethmouth</td>\n",
       "      <td>3</td>\n",
       "      <td>Rural</td>\n",
       "      <td>2016-04-21 10:20:09</td>\n",
       "      <td>16.50</td>\n",
       "      <td>5702608059064</td>\n",
       "    </tr>\n",
       "  </tbody>\n",
       "</table>\n",
       "</div>"
      ],
      "text/plain": [
       "                      city  driver_count   type                 date   fare  \\\n",
       "2282  South Elizabethmouth             3  Rural  2016-04-03 11:13:07  22.79   \n",
       "2283  South Elizabethmouth             3  Rural  2016-03-11 12:27:01  26.72   \n",
       "2284  South Elizabethmouth             3  Rural  2016-11-23 07:47:18  46.39   \n",
       "2285  South Elizabethmouth             3  Rural  2016-07-19 09:35:59  31.09   \n",
       "2286  South Elizabethmouth             3  Rural  2016-04-21 10:20:09  16.50   \n",
       "\n",
       "            ride_id  \n",
       "2282  8193837300497  \n",
       "2283  4943246873754  \n",
       "2284  1939838068038  \n",
       "2285  2959749591417  \n",
       "2286  5702608059064  "
      ]
     },
     "execution_count": 15,
     "metadata": {},
     "output_type": "execute_result"
    }
   ],
   "source": [
    "# Create DataFrame for Rural Rides\n",
    "rural_df = merge_df[merge_df[\"type\"]==\"Rural\"]\n",
    "rural_df.head()"
   ]
  },
  {
   "cell_type": "code",
   "execution_count": 16,
   "metadata": {},
   "outputs": [
    {
     "data": {
      "text/plain": [
       "city\n",
       "East Leslie       11\n",
       "East Stephen      10\n",
       "East Troybury      7\n",
       "Erikport           8\n",
       "Hernandezshire     9\n",
       "Name: ride_id, dtype: int64"
      ]
     },
     "execution_count": 16,
     "metadata": {},
     "output_type": "execute_result"
    }
   ],
   "source": [
    "# Total Number of Rides Per City \n",
    "rural_rides = rural_df.groupby(\"city\")[\"ride_id\"].count()\n",
    "rural_rides.head()"
   ]
  },
  {
   "cell_type": "code",
   "execution_count": 17,
   "metadata": {},
   "outputs": [
    {
     "data": {
      "text/plain": [
       "city\n",
       "East Leslie        9\n",
       "East Stephen       6\n",
       "East Troybury      3\n",
       "Erikport           3\n",
       "Hernandezshire    10\n",
       "Name: driver_count, dtype: int64"
      ]
     },
     "execution_count": 17,
     "metadata": {},
     "output_type": "execute_result"
    }
   ],
   "source": [
    "# Count Number of Drivers Per City\n",
    "rural_drivers = rural_df.groupby(\"city\")[\"driver_count\"].min()\n",
    "rural_drivers.head()"
   ]
  },
  {
   "cell_type": "code",
   "execution_count": 18,
   "metadata": {},
   "outputs": [
    {
     "data": {
      "text/plain": [
       "city\n",
       "East Leslie       33.660909\n",
       "East Stephen      39.053000\n",
       "East Troybury     33.244286\n",
       "Erikport          30.043750\n",
       "Hernandezshire    32.002222\n",
       "Name: fare, dtype: float64"
      ]
     },
     "execution_count": 18,
     "metadata": {},
     "output_type": "execute_result"
    }
   ],
   "source": [
    "# Average Fare Per City\n",
    "rural_avg_fare = rural_df.groupby(\"city\")[\"fare\"].mean()\n",
    "rural_avg_fare.head()"
   ]
  },
  {
   "cell_type": "code",
   "execution_count": 25,
   "metadata": {},
   "outputs": [
    {
     "data": {
      "image/png": "[encoded data removed]",
      "text/plain": [
       "<matplotlib.figure.Figure at 0x107fe7400>"
      ]
     },
     "metadata": {},
     "output_type": "display_data"
    }
   ],
   "source": [
    "\n",
    "# Tells matplotlib that we want to make a scatter plot\n",
    "# The size of each point on our plot is determined by their x value\n",
    "plt.scatter(urban_rides, urban_avg_fare, marker=\"o\", facecolors=\"lightcoral\", edgecolors=\"black\",\n",
    "            s=urban_drivers*10, alpha=0.75)\n",
    "\n",
    "# Tells matplotlib that we want to make a scatter plot\n",
    "# The size of each point on our plot is determined by their x value\n",
    "plt.scatter(suburban_rides, suburban_avg_fare, marker=\"o\", facecolors=\"lightskyblue\", edgecolors=\"black\",\n",
    "            s=suburban_drivers*10, alpha=0.75)\n",
    "\n",
    "# Tells matplotlib that we want to make a scatter plot\n",
    "# The size of each point on our plot is determined by their x value\n",
    "plt.scatter(rural_rides, rural_avg_fare, marker=\"o\", facecolors=\"gold\", edgecolors=\"black\",\n",
    "            s=rural_drivers*10, alpha=0.75)\n",
    "\n",
    "plt.legend([\"Urban\", \"Suburban\", \"Rural\"])\n",
    "plt.xlabel(\"Total Number of Rides (Per City)\")\n",
    "plt.ylabel(\"Average Fare($)\")\n",
    "plt.show()"
   ]
  },
  {
   "cell_type": "code",
   "execution_count": 20,
   "metadata": {},
   "outputs": [
    {
     "data": {
      "text/plain": [
       "city\n",
       "Port James    64\n",
       "Name: ride_id, dtype: int64"
      ]
     },
     "execution_count": 20,
     "metadata": {},
     "output_type": "execute_result"
    }
   ],
   "source": [
    "suburban_rides[suburban_rides>60]"
   ]
  },
  {
   "cell_type": "code",
   "execution_count": 21,
   "metadata": {},
   "outputs": [],
   "source": [
    "fares = merge_df.groupby(\"type\")[\"fare\"].sum()\n",
    "\n"
   ]
  },
  {
   "cell_type": "code",
   "execution_count": 22,
   "metadata": {},
   "outputs": [
    {
     "data": {
      "text/plain": [
       "64669.11999999995"
      ]
     },
     "execution_count": 22,
     "metadata": {},
     "output_type": "execute_result"
    }
   ],
   "source": [
    "fares_total = merge_df[\"fare\"].sum()\n",
    "fares_total"
   ]
  },
  {
   "cell_type": "code",
   "execution_count": 47,
   "metadata": {},
   "outputs": [
    {
     "data": {
      "text/plain": [
       "type\n",
       "Rural       0.065798\n",
       "Suburban    0.314458\n",
       "Urban       0.619745\n",
       "Name: fare, dtype: float64"
      ]
     },
     "execution_count": 47,
     "metadata": {},
     "output_type": "execute_result"
    }
   ],
   "source": [
    "piechart = fares/fares_total\n",
    "piechart"
   ]
  },
  {
   "cell_type": "code",
   "execution_count": 52,
   "metadata": {
    "collapsed": true
   },
   "outputs": [],
   "source": [
    "pie_slices = [\"Rural\",\"Suburban\",\"Urban\"]\n",
    "colors = [\"gold\",\"lightskyblue\", \"lightcoral\"]"
   ]
  },
  {
   "cell_type": "code",
   "execution_count": 91,
   "metadata": {
    "collapsed": true
   },
   "outputs": [],
   "source": [
    "explode = (0,0,0.1)"
   ]
  },
  {
   "cell_type": "code",
   "execution_count": 92,
   "metadata": {},
   "outputs": [
    {
     "data": {
      "text/plain": [
       "([<matplotlib.patches.Wedge at 0x107f82d68>,\n",
       "  <matplotlib.patches.Wedge at 0x10800c748>,\n",
       "  <matplotlib.patches.Wedge at 0x10cf84518>],\n",
       " [Text(-0.409282,1.02102,'Rural'),\n",
       "  Text(-1.09999,-0.00555956,'Suburban'),\n",
       "  Text(1.17568,-0.24035,'Urban')],\n",
       " [Text(-0.223245,0.556922,'6.6%'),\n",
       "  Text(-0.599992,-0.00303249,'31.4%'),\n",
       "  Text(0.685815,-0.140204,'62.0%')])"
      ]
     },
     "execution_count": 92,
     "metadata": {},
     "output_type": "execute_result"
    }
   ],
   "source": [
    "plt.pie(piechart, explode=explode, labels=pie_slices, colors=colors, autopct=\"%1.1f%%\", shadow=True, startangle=100, counterclock=True, wedgeprops=None, textprops=None, center=(0, 0), frame=False, rotatelabels=False, hold=None, data=None)\n"
   ]
  },
  {
   "cell_type": "code",
   "execution_count": 93,
   "metadata": {},
   "outputs": [
    {
     "data": {
      "text/plain": [
       "(-1.1063831053792821,\n",
       " 1.2159260638249996,\n",
       " -1.1319055506449043,\n",
       " 1.0942814042338185)"
      ]
     },
     "execution_count": 93,
     "metadata": {},
     "output_type": "execute_result"
    }
   ],
   "source": [
    "# Create axes which are equal so we have a perfect circle\n",
    "plt.axis(\"equal\")"
   ]
  },
  {
   "cell_type": "code",
   "execution_count": 94,
   "metadata": {},
   "outputs": [
    {
     "data": {
      "image/png": "[encoded data removed]",
      "text/plain": [
       "<matplotlib.figure.Figure at 0x10cf91160>"
      ]
     },
     "metadata": {},
     "output_type": "display_data"
    }
   ],
   "source": [
    "# Save an image of our chart and print the final product to the screen\n",
    "plt.savefig(\"Pyber.png\")\n",
    "plt.show()"
   ]
  },
  {
   "cell_type": "code",
   "execution_count": null,
   "metadata": {
    "collapsed": true
   },
   "outputs": [],
   "source": []
  },
  {
   "cell_type": "code",
   "execution_count": null,
   "metadata": {
    "collapsed": true
   },
   "outputs": [],
   "source": []
  }
 ],
 "metadata": {
  "kernelspec": {
   "display_name": "Python 3",
   "language": "python",
   "name": "python3"
  },
  "language_info": {
   "codemirror_mode": {
    "name": "ipython",
    "version": 3
   },
   "file_extension": ".py",
   "mimetype": "text/x-python",
   "name": "python",
   "nbconvert_exporter": "python",
   "pygments_lexer": "ipython3",
   "version": "3.6.3"
  }
 },
 "nbformat": 4,
 "nbformat_minor": 2
}
